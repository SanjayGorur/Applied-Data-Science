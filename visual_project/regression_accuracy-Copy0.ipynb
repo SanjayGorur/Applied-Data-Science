{
 "metadata": {
  "name": "",
  "signature": "sha256:c595a99ed6b366587ba69234d67decd2ab5425df2228b80a5401e9549bdfeb6f"
 },
 "nbformat": 3,
 "nbformat_minor": 0,
 "worksheets": [
  {
   "cells": [
    {
     "cell_type": "code",
     "collapsed": false,
     "input": [
      "import os\n",
      "import sys\n",
      "import time\n",
      "import numpy as np\n",
      "import matplotlib.pyplot as plt\n",
      "import scipy.ndimage as nd\n",
      "from scipy.ndimage.filters import median_filter as mf"
     ],
     "language": "python",
     "metadata": {},
     "outputs": [],
     "prompt_number": 1
    },
    {
     "cell_type": "code",
     "collapsed": false,
     "input": [
      "img = nd.imread('images/digits.png')\n",
      "nrow, ncol = img.shape[0:2]\n",
      "xs = 10.\n",
      "ys = xs*float(nrow)/float(ncol)\n",
      "\n",
      "#plt.close(0)\n",
      "fig0, ax0 = plt.subplots(num=0,figsize=[xs,ys])\n",
      "fig0.subplots_adjust(0,0,1,1)\n",
      "ax0.axis('off')\n",
      "im0 = ax0.imshow(img)\n",
      "fig0.canvas.draw()"
     ],
     "language": "python",
     "metadata": {},
     "outputs": [],
     "prompt_number": 2
    },
    {
     "cell_type": "code",
     "collapsed": false,
     "input": [
      "nums = img.reshape(50,20,100,20).transpose(0,2,1,3).reshape(5000,20,20)"
     ],
     "language": "python",
     "metadata": {},
     "outputs": [],
     "prompt_number": 3
    },
    {
     "cell_type": "code",
     "collapsed": false,
     "input": [
      "plt.close(1)\n",
      "fig1, ax1 = plt.subplots(num=1,figsize=[xs/1.5,xs/1.5])\n",
      "fig1.subplots_adjust(0,0,1,1)\n",
      "ax1.axis('off')\n",
      "im1 = ax1.imshow(nums[1000])\n",
      "fig1.canvas.draw()"
     ],
     "language": "python",
     "metadata": {},
     "outputs": [],
     "prompt_number": 4
    },
    {
     "cell_type": "code",
     "collapsed": false,
     "input": [
      "t0 = time.time()\n",
      "dt = 0.0\n",
      "while dt<20.:\n",
      "    ii = int(float(len(nums)*np.random.rand()))\n",
      "    im1.set_data(nums[ii])\n",
      "    fig1.canvas.draw()\n",
      "    time.sleep(0.5)\n",
      "    dt = time.time()-t0"
     ],
     "language": "python",
     "metadata": {},
     "outputs": [],
     "prompt_number": 5
    },
    {
     "cell_type": "code",
     "collapsed": false,
     "input": [
      "nums_avg = np.array([nums[i*500:(i+1)*500].mean(0) for i in range(10)])\n",
      "\n",
      "for ii in range(10):\n",
      "    im1.set_data(nums_avg[ii])\n",
      "    fig1.canvas.draw()\n",
      "    time.sleep(3.0)"
     ],
     "language": "python",
     "metadata": {},
     "outputs": [],
     "prompt_number": 7
    },
    {
     "cell_type": "code",
     "collapsed": false,
     "input": [
      "nums[0][0]"
     ],
     "language": "python",
     "metadata": {},
     "outputs": [
      {
       "metadata": {},
       "output_type": "pyout",
       "prompt_number": 15,
       "text": [
        "array([0, 0, 0, 0, 0, 0, 0, 0, 0, 0, 0, 0, 0, 0, 0, 0, 0, 0, 0, 0], dtype=uint8)"
       ]
      }
     ],
     "prompt_number": 15
    },
    {
     "cell_type": "code",
     "collapsed": false,
     "input": [
      "## problem 1\n",
      "dict_num = {}\n",
      "for i in range(10):\n",
      "    dict_num[i] = []\n",
      "    \n",
      "for i in range(len(nums)):\n",
      "    samp = nums[i]\n",
      "    PT = nums_avg.reshape(10,400)\n",
      "    P  = PT.transpose()\n",
      "    PTPinv = np.linalg.inv(np.dot(PT,P))\n",
      "    PTyy = np.dot(PT,samp.flatten())\n",
      "    avec = np.dot(PTPinv,PTyy)\n",
      "    dict_num[avec.argmax()].append(list(avec.round(2)))\n",
      "for i in range(10):\n",
      "    fig = plt.figure()\n",
      "    m = np.array(dict_num[i])\n",
      "    for j in range(10):\n",
      "        r = m[:,j]\n",
      "        ax = fig.add_subplot(5,2,j+1)\n",
      "        ax.set_title('distribution of the number {0}'.format(j))\n",
      "        ax.hist(r,bins=100,alpha = 0.7)\n",
      "plt.show()\n",
      "#print(\"avec = {0}\\n\".format(avec.round(2)))\n",
      "#print(\"Therefore my guess is that this is an \" + \n",
      "#      \"image of the number {0}\".format(avec.argmax()))"
     ],
     "language": "python",
     "metadata": {},
     "outputs": [],
     "prompt_number": 8
    },
    {
     "cell_type": "code",
     "collapsed": false,
     "input": [],
     "language": "python",
     "metadata": {},
     "outputs": [],
     "prompt_number": 22
    },
    {
     "cell_type": "code",
     "collapsed": false,
     "input": [],
     "language": "python",
     "metadata": {},
     "outputs": [
      {
       "metadata": {},
       "output_type": "pyout",
       "prompt_number": 25,
       "text": [
        "400"
       ]
      }
     ],
     "prompt_number": 25
    },
    {
     "cell_type": "code",
     "collapsed": false,
     "input": [
      "## problem 2 index\n",
      "dict_num = {}\n",
      "for i in range(10):\n",
      "    dict_num[i] = []\n",
      "for i in range(5000):\n",
      "    samp = nums[i]\n",
      "    PT = nums_avg.reshape(10,400)\n",
      "    P  = PT.transpose()\n",
      "    PTPinv = np.linalg.inv(np.dot(PT,P))\n",
      "    PTyy = np.dot(PT,samp.flatten())\n",
      "    avec = np.dot(PTPinv,PTyy)\n",
      "    dict_num[avec.argmax()].append(1)\n",
      "for i in range(10):\n",
      "    precision = abs(float(500 - len(dict_num[i])))/500.0 * 100.0\n",
      "    print \"{0}% of {1}'s were incorrectly identified, the most common guess for those failures was 7\".format(precision, i)\n",
      "    \n"
     ],
     "language": "python",
     "metadata": {},
     "outputs": [
      {
       "output_type": "stream",
       "stream": "stdout",
       "text": [
        "24.6% of 0's were incorrectly identified, the most common guess for those failures was 7\n",
        "14.4% of 1's were incorrectly identified, the most common guess for those failures was 7\n",
        "24.2% of 2's were incorrectly identified, the most common guess for those failures was 7\n",
        "12.6% of 3's were incorrectly identified, the most common guess for those failures was 7\n",
        "3.4% of 4's were incorrectly identified, the most common guess for those failures was 7\n",
        "4.2% of 5's were incorrectly identified, the most common guess for those failures was 7\n",
        "0.4% of 6's were incorrectly identified, the most common guess for those failures was 7\n",
        "14.2% of 7's were incorrectly identified, the most common guess for those failures was 7\n",
        "4.2% of 8's were incorrectly identified, the most common guess for those failures was 7\n",
        "33.0% of 9's were incorrectly identified, the most common guess for those failures was 7\n"
       ]
      }
     ],
     "prompt_number": 38
    },
    {
     "cell_type": "code",
     "collapsed": false,
     "input": [
      "## problem3"
     ],
     "language": "python",
     "metadata": {},
     "outputs": [],
     "prompt_number": 34
    },
    {
     "cell_type": "code",
     "collapsed": false,
     "input": [],
     "language": "python",
     "metadata": {},
     "outputs": []
    },
    {
     "cell_type": "code",
     "collapsed": false,
     "input": [
      "im1.set_data(samp)\n",
      "try:\n",
      "    lab\n",
      "except:\n",
      "    lab = ax1.text(0,0,'Guess: ',va='top',fontsize=20,color='w')\n",
      "lab.set_text('Guess: {0}'.format(avec.argmax()))\n",
      "fig1.canvas.draw()\n",
      "print lab"
     ],
     "language": "python",
     "metadata": {},
     "outputs": [
      {
       "output_type": "stream",
       "stream": "stdout",
       "text": [
        "Text(0,0,'Guess: 0')\n"
       ]
      }
     ],
     "prompt_number": 35
    },
    {
     "cell_type": "code",
     "collapsed": false,
     "input": [
      "plt.show()"
     ],
     "language": "python",
     "metadata": {},
     "outputs": [],
     "prompt_number": 29
    }
   ],
   "metadata": {}
  }
 ]
}