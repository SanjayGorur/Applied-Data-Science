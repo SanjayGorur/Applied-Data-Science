{
 "metadata": {
  "name": "",
  "signature": "sha256:8e2ae5509e09d2cedef21d6d87e0f3d0f1f253e0a242c43cb7e719c474334ba7"
 },
 "nbformat": 3,
 "nbformat_minor": 0,
 "worksheets": [
  {
   "cells": [
    {
     "cell_type": "code",
     "collapsed": false,
     "input": [
      "import os\n",
      "import sys\n",
      "import time\n",
      "import pylab\n",
      "import numpy as np\n",
      "import matplotlib.pyplot as plt\n",
      "import scipy.ndimage as nd\n",
      "from scipy.ndimage.filters import median_filter as mf"
     ],
     "language": "python",
     "metadata": {},
     "outputs": [],
     "prompt_number": 46
    },
    {
     "cell_type": "code",
     "collapsed": false,
     "input": [],
     "language": "python",
     "metadata": {},
     "outputs": []
    },
    {
     "cell_type": "code",
     "collapsed": false,
     "input": [
      "## 1. read in an image with scipy.ndimage\n",
      "dpath = 'images'\n",
      "fname = 'ml.jpg'\n",
      "infile = os.path.join(dpath,fname)\n",
      "img_ml = nd.imread(infile)"
     ],
     "language": "python",
     "metadata": {},
     "outputs": [],
     "prompt_number": 4
    },
    {
     "cell_type": "code",
     "collapsed": false,
     "input": [
      "img_ml[:,:,0][::2,::2],img_ml[:,:,2][::2,::2] = img_ml[:,:,2][::2,::2],img_ml[:,:,0][::2,::2] "
     ],
     "language": "python",
     "metadata": {},
     "outputs": [],
     "prompt_number": 11
    },
    {
     "cell_type": "code",
     "collapsed": false,
     "input": [
      "nrow, ncol = img_ml.shape[:2]\n",
      "print nrow, ncol"
     ],
     "language": "python",
     "metadata": {},
     "outputs": [
      {
       "output_type": "stream",
       "stream": "stdout",
       "text": [
        "954 640\n"
       ]
      }
     ],
     "prompt_number": 12
    },
    {
     "cell_type": "code",
     "collapsed": false,
     "input": [
      "img_ml = 255 - img_ml"
     ],
     "language": "python",
     "metadata": {},
     "outputs": [],
     "prompt_number": 15
    },
    {
     "cell_type": "code",
     "collapsed": false,
     "input": [
      "ysize = 10.\n",
      "xsize = ysize*float(img_ml_crop.shape[1])/float(img_ml_crop.shape[0])\n",
      "fig8, ax8 = plt.subplots(1,1,num=8,figsize=[xsize,ysize])\n",
      "fig8.subplots_adjust(0,0,1,1,0,0)\n",
      "ax8.axis('off')\n",
      "ax8.imshow(mf(1.0*img_ml,[8,2,1]).clip(0,255).astype(np.uint8))\n",
      "fig8.canvas.set_window_title('modified Mona Lisa')\n",
      "fig8.canvas.draw()"
     ],
     "language": "python",
     "metadata": {},
     "outputs": [],
     "prompt_number": 53
    },
    {
     "cell_type": "code",
     "collapsed": false,
     "input": [
      "plt.show()"
     ],
     "language": "python",
     "metadata": {},
     "outputs": [],
     "prompt_number": 52
    },
    {
     "cell_type": "code",
     "collapsed": false,
     "input": [
      "ysize"
     ],
     "language": "python",
     "metadata": {},
     "outputs": [
      {
       "metadata": {},
       "output_type": "pyout",
       "prompt_number": 76,
       "text": [
        "10.0"
       ]
      }
     ],
     "prompt_number": 76
    },
    {
     "cell_type": "code",
     "collapsed": false,
     "input": [],
     "language": "python",
     "metadata": {},
     "outputs": []
    },
    {
     "cell_type": "code",
     "collapsed": false,
     "input": [],
     "language": "python",
     "metadata": {},
     "outputs": []
    }
   ],
   "metadata": {}
  }
 ]
}