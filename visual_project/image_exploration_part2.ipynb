{
 "metadata": {
  "name": "",
  "signature": "sha256:dda0ae883a6af502ad5aa8518bd0a538104aa8bc3384d6d80350f6479b02a612"
 },
 "nbformat": 3,
 "nbformat_minor": 0,
 "worksheets": [
  {
   "cells": [
    {
     "cell_type": "code",
     "collapsed": false,
     "input": [
      "import os\n",
      "import sys\n",
      "import time\n",
      "import pylab\n",
      "import numpy as np\n",
      "import matplotlib.pyplot as plt\n",
      "import scipy.ndimage as nd\n",
      "from scipy.ndimage.filters import median_filter as mf"
     ],
     "language": "python",
     "metadata": {},
     "outputs": [],
     "prompt_number": 1
    },
    {
     "cell_type": "code",
     "collapsed": false,
     "input": [
      "## 1. read in an image with scipy.ndimage\n",
      "dpath = 'images'\n",
      "fname = 'ml.jpg'\n",
      "infile = os.path.join(dpath,fname)\n",
      "img_ml = nd.imread(infile)"
     ],
     "language": "python",
     "metadata": {},
     "outputs": [],
     "prompt_number": 2
    },
    {
     "cell_type": "code",
     "collapsed": false,
     "input": [],
     "language": "python",
     "metadata": {},
     "outputs": [],
     "prompt_number": 8
    },
    {
     "cell_type": "code",
     "collapsed": false,
     "input": [
      "#plt.ion()\n",
      "num = 3\n",
      "nbin = 256\n",
      "colors = ['red', 'green','blue']\n",
      "fig0, ax0 = plt.subplots(num,1,num=0,figsize=[8,8])\n",
      "ysize = 10.\n",
      "xsize = ysize*float(img_ml.shape[1])/float(img_ml.shape[0])\n",
      "\n",
      "for i in range(num):\n",
      "    histX = (np.array(img_ml[:,:,i]).reshape(-1,).tolist())\n",
      "    ax0[i].hist(histX, nbin, histtype='bar', color= colors[i],alpha = 0.8, label=colors[i])\n",
      "    ax0[i].legend(prop={'size': 10})\n",
      "    ax0[i].set_xlim(0,255)\n",
      "fig0.canvas.draw()\n",
      "        \n",
      "fig5, ax5 = plt.subplots(num=5,figsize=[xsize,ysize])\n",
      "fig5.subplots_adjust(0,0,1,1)\n",
      "ax5.axis('off')\n",
      "im5 = ax5.imshow(img_ml)\n",
      "fig5.canvas.draw()\n",
      "\n",
      "plt.show()"
     ],
     "language": "python",
     "metadata": {},
     "outputs": [],
     "prompt_number": 3
    },
    {
     "cell_type": "code",
     "collapsed": false,
     "input": [],
     "language": "python",
     "metadata": {},
     "outputs": [],
     "prompt_number": 8
    },
    {
     "cell_type": "code",
     "collapsed": false,
     "input": [
      "#plt.ioff()\n",
      "while True:\n",
      "    temp = fig0.ginput(3)\n",
      "    \n",
      "    plt.close(fig0)\n",
      "    plt.close(fig5)\n",
      "    \n",
      "    fig0, ax0 = plt.subplots(num,1,num=0,figsize=[8,8])\n",
      "    for i in range(num):\n",
      "        histX = (np.array(img_ml[:,:,i]).reshape(-1,).tolist())\n",
      "        ax0[i].hist(histX, nbin, histtype='bar', color= colors[i],alpha = 0.8, label=colors[i])\n",
      "        ax0[i].legend(prop={'size': 10})\n",
      "        ax0[i].set_xlim(0,255)\n",
      "        rng = ax0[i].axvspan((temp[i][0]-5),(temp[i][0]+5),facecolor='lime',alpha=0.25)\n",
      "            \n",
      "    x = []\n",
      "    y = []\n",
      "    img_ml_darken = img_ml\n",
      "    for i in range(len(temp)):\n",
      "        x.append(int(temp[i][0]))\n",
      "        y.append(int(temp[i][1]))\n",
      "        for i in range(img_ml.shape[0]):\n",
      "            for j in range(img_ml.shape[1]):\n",
      "                r,g,b = img_ml[i][j]\n",
      "                if (r<(temp[0][0]-5) or r>(temp[0][0]+5))\\\n",
      "                and (g<(temp[1][0]-5) or g>(temp[1][0]+5))\\\n",
      "                and (b<(temp[2][0]-5) or b>(temp[2][0]+5)):\n",
      "                    img_ml_darken[i][j]=(.25*r,.25*g,.25*b)\n",
      "    fig5, ax5 = plt.subplots(num=5,figsize=[xsize,ysize])\n",
      "    fig5.subplots_adjust(0,0,1,1)\n",
      "    ax5.axis('off')\n",
      "    im5 = ax5.imshow(img_ml_darken)\n",
      "    #fig5.canvas.draw()\n",
      "    plt.show()\n",
      "\n",
      "    \n"
     ],
     "language": "python",
     "metadata": {},
     "outputs": [
      {
       "ename": "IndexError",
       "evalue": "list index out of range",
       "output_type": "pyerr",
       "traceback": [
        "\u001b[0;31m---------------------------------------------------------------------------\u001b[0m\n\u001b[0;31mIndexError\u001b[0m                                Traceback (most recent call last)",
        "\u001b[0;32m<ipython-input-4-e0d2249dcc05>\u001b[0m in \u001b[0;36m<module>\u001b[0;34m()\u001b[0m\n\u001b[1;32m     12\u001b[0m         \u001b[0max0\u001b[0m\u001b[0;34m[\u001b[0m\u001b[0mi\u001b[0m\u001b[0;34m]\u001b[0m\u001b[0;34m.\u001b[0m\u001b[0mlegend\u001b[0m\u001b[0;34m(\u001b[0m\u001b[0mprop\u001b[0m\u001b[0;34m=\u001b[0m\u001b[0;34m{\u001b[0m\u001b[0;34m'size'\u001b[0m\u001b[0;34m:\u001b[0m \u001b[0;36m10\u001b[0m\u001b[0;34m}\u001b[0m\u001b[0;34m)\u001b[0m\u001b[0;34m\u001b[0m\u001b[0m\n\u001b[1;32m     13\u001b[0m         \u001b[0max0\u001b[0m\u001b[0;34m[\u001b[0m\u001b[0mi\u001b[0m\u001b[0;34m]\u001b[0m\u001b[0;34m.\u001b[0m\u001b[0mset_xlim\u001b[0m\u001b[0;34m(\u001b[0m\u001b[0;36m0\u001b[0m\u001b[0;34m,\u001b[0m\u001b[0;36m255\u001b[0m\u001b[0;34m)\u001b[0m\u001b[0;34m\u001b[0m\u001b[0m\n\u001b[0;32m---> 14\u001b[0;31m         \u001b[0mrng\u001b[0m \u001b[0;34m=\u001b[0m \u001b[0max0\u001b[0m\u001b[0;34m[\u001b[0m\u001b[0mi\u001b[0m\u001b[0;34m]\u001b[0m\u001b[0;34m.\u001b[0m\u001b[0maxvspan\u001b[0m\u001b[0;34m(\u001b[0m\u001b[0;34m(\u001b[0m\u001b[0mtemp\u001b[0m\u001b[0;34m[\u001b[0m\u001b[0mi\u001b[0m\u001b[0;34m]\u001b[0m\u001b[0;34m[\u001b[0m\u001b[0;36m0\u001b[0m\u001b[0;34m]\u001b[0m\u001b[0;34m-\u001b[0m\u001b[0;36m5\u001b[0m\u001b[0;34m)\u001b[0m\u001b[0;34m,\u001b[0m\u001b[0;34m(\u001b[0m\u001b[0mtemp\u001b[0m\u001b[0;34m[\u001b[0m\u001b[0mi\u001b[0m\u001b[0;34m]\u001b[0m\u001b[0;34m[\u001b[0m\u001b[0;36m0\u001b[0m\u001b[0;34m]\u001b[0m\u001b[0;34m+\u001b[0m\u001b[0;36m5\u001b[0m\u001b[0;34m)\u001b[0m\u001b[0;34m,\u001b[0m\u001b[0mfacecolor\u001b[0m\u001b[0;34m=\u001b[0m\u001b[0;34m'lime'\u001b[0m\u001b[0;34m,\u001b[0m\u001b[0malpha\u001b[0m\u001b[0;34m=\u001b[0m\u001b[0;36m0.25\u001b[0m\u001b[0;34m)\u001b[0m\u001b[0;34m\u001b[0m\u001b[0m\n\u001b[0m\u001b[1;32m     15\u001b[0m \u001b[0;34m\u001b[0m\u001b[0m\n\u001b[1;32m     16\u001b[0m     \u001b[0mx\u001b[0m \u001b[0;34m=\u001b[0m \u001b[0;34m[\u001b[0m\u001b[0;34m]\u001b[0m\u001b[0;34m\u001b[0m\u001b[0m\n",
        "\u001b[0;31mIndexError\u001b[0m: list index out of range"
       ]
      }
     ],
     "prompt_number": 4
    },
    {
     "cell_type": "code",
     "collapsed": false,
     "input": [
      "temp"
     ],
     "language": "python",
     "metadata": {},
     "outputs": [
      {
       "metadata": {},
       "output_type": "pyout",
       "prompt_number": 6,
       "text": [
        "[(247.529296875, 365.32258064516282),\n",
        " (247.529296875, 545.16129032258141),\n",
        " (246.03515625, 383.87096774194197)]"
       ]
      }
     ],
     "prompt_number": 6
    },
    {
     "cell_type": "code",
     "collapsed": false,
     "input": [
      "temp[2][1]"
     ],
     "language": "python",
     "metadata": {},
     "outputs": [
      {
       "metadata": {},
       "output_type": "pyout",
       "prompt_number": 9,
       "text": [
        "383.87096774194197"
       ]
      }
     ],
     "prompt_number": 9
    },
    {
     "cell_type": "code",
     "collapsed": false,
     "input": [],
     "language": "python",
     "metadata": {},
     "outputs": [],
     "prompt_number": 94
    },
    {
     "cell_type": "code",
     "collapsed": false,
     "input": [],
     "language": "python",
     "metadata": {},
     "outputs": [],
     "prompt_number": 94
    },
    {
     "cell_type": "code",
     "collapsed": false,
     "input": [],
     "language": "python",
     "metadata": {},
     "outputs": []
    }
   ],
   "metadata": {}
  }
 ]
}