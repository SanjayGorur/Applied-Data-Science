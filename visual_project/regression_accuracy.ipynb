{
 "metadata": {
  "name": "",
  "signature": "sha256:f967c32b335f8c7ceb15d4dd3bca8fb4c08739a7f58af5fe485ec2a0ab9e0f88"
 },
 "nbformat": 3,
 "nbformat_minor": 0,
 "worksheets": [
  {
   "cells": [
    {
     "cell_type": "code",
     "collapsed": true,
     "input": [
      "import os\n",
      "import time\n",
      "import sys\n",
      "import numpy as np\n",
      "import matplotlib.pyplot as plt\n",
      "import scipy.ndimage as nd\n",
      "from scipy.ndimage.filters import median_filter as mf\n",
      "from random import randrange\n",
      "import operator\n",
      "import random\n",
      "\n",
      "img = nd.imread('images/digits.png')\n",
      "nrow, ncol = img.shape[0:2]\n",
      "xs = 10.\n",
      "ys = xs*float(nrow)/float(ncol)\n",
      "nums = img.reshape(50,20,100,20).transpose(0,2,1,3).reshape(5000,20,20)\n",
      "nums_avg = np.array([nums[i*500:(i+1)*500].mean(0) for i in range(10)])\n",
      "\n",
      "#### problem1\n",
      "rslt = [[] for i in range(10)]\n",
      "acr = []\n",
      "error = []\n",
      "PT = nums_avg.reshape(10,400)\n",
      "P  = PT.transpose()\n",
      "PTPinv = np.linalg.inv(np.dot(PT,P))\n",
      "\n",
      "for i in range(len(nums)):\n",
      "    n = i/500\n",
      "    samp = nums[i]\n",
      "    PTyy = np.dot(PT,samp.flatten())\n",
      "    avec = np.dot(PTPinv,PTyy)\n",
      "    rslt[n].append(list(avec))\n",
      "    error.append(avec.argmax())\n",
      "error = np.array(error).reshape(10,500)\n",
      "# problem2\n",
      "for i in range(10):\n",
      "    n = len(error[i,:][error[i,:]!=i])\n",
      "    errdct = dict((x,list(error[i,:]).count(x)) for x in set(list(error[i,:])))\n",
      "    del errdct[i]\n",
      "    mx =max(errdct,key=errdct.get)\n",
      "    print \"%s of %s's were incorrectly identified, the most common guess for those failures was %s\"%(n/500., i, mx)"
     ],
     "language": "python",
     "metadata": {},
     "outputs": [
      {
       "output_type": "stream",
       "stream": "stdout",
       "text": [
        "0.286 of 0's were incorrectly identified, the most common guess for those failures was 5\n",
        "0.064 of 1's were incorrectly identified, the most common guess for those failures was 5\n",
        "0.346 of 2's were incorrectly identified, the most common guess for those failures was 3\n",
        "0.268 of 3's were incorrectly identified, the most common guess for those failures was 9\n",
        "0.238 of 4's were incorrectly identified, the most common guess for those failures was 9\n",
        "0.384 of 5's were incorrectly identified, the most common guess for those failures was 3\n",
        "0.186 of 6's were incorrectly identified, the most common guess for those failures was 5\n",
        "0.248 of 7's were incorrectly identified, the most common guess for those failures was 9\n",
        "0.298 of 8's were incorrectly identified, the most common guess for those failures was 3\n",
        "0.196 of 9's were incorrectly identified, the most common guess for those failures was 4\n"
       ]
      }
     ],
     "prompt_number": 13
    },
    {
     "cell_type": "code",
     "collapsed": false,
     "input": [],
     "language": "python",
     "metadata": {},
     "outputs": []
    },
    {
     "cell_type": "code",
     "collapsed": false,
     "input": [],
     "language": "python",
     "metadata": {},
     "outputs": []
    },
    {
     "cell_type": "code",
     "collapsed": false,
     "input": [],
     "language": "python",
     "metadata": {},
     "outputs": [],
     "prompt_number": 16
    },
    {
     "cell_type": "code",
     "collapsed": false,
     "input": [
      "PTPinv"
     ],
     "language": "python",
     "metadata": {},
     "outputs": [
      {
       "metadata": {},
       "output_type": "pyout",
       "prompt_number": 16,
       "text": [
        "array([[  2.07234610e-06,   1.02144646e-06,  -1.03569794e-06,\n",
        "          2.19117382e-07,   3.63951359e-07,  -2.49056426e-06,\n",
        "         -1.18728643e-07,  -6.46027156e-07,   1.40885031e-07,\n",
        "          5.13176245e-07,  -1.07064861e-05],\n",
        "       [  1.02144646e-06,   3.52806673e-06,  -9.35101386e-07,\n",
        "         -1.48623709e-07,   1.22844924e-06,  -5.37504903e-07,\n",
        "         -2.90718718e-07,  -6.54069123e-07,  -1.75104585e-06,\n",
        "         -7.01684118e-08,   3.22074055e-06],\n",
        "       [ -1.03569794e-06,  -9.35101386e-07,   5.21396189e-06,\n",
        "         -1.88698336e-06,  -1.56909188e-06,   3.52951282e-06,\n",
        "         -2.12873598e-06,  -4.50926317e-07,  -2.18099386e-06,\n",
        "          1.84309697e-06,  -1.75326699e-05],\n",
        "       [  2.19117382e-07,  -1.48623709e-07,  -1.88698336e-06,\n",
        "          4.53545058e-06,   9.01616058e-07,  -3.75080602e-06,\n",
        "          1.17528303e-06,  -7.63167874e-08,  -6.41234473e-07,\n",
        "         -5.08827680e-07,  -4.98162714e-06],\n",
        "       [  3.63951359e-07,   1.22844924e-06,  -1.56909188e-06,\n",
        "          9.01616058e-07,   6.78930082e-06,  -7.59194140e-07,\n",
        "         -6.39608675e-07,   7.44608384e-07,   1.11472051e-07,\n",
        "         -5.93358352e-06,  -1.72577267e-05],\n",
        "       [ -2.49056426e-06,  -5.37504903e-07,   3.52951282e-06,\n",
        "         -3.75080602e-06,  -7.59194140e-07,   1.14071407e-05,\n",
        "         -2.07591076e-06,   3.09101170e-07,  -3.36850890e-06,\n",
        "         -5.87403166e-07,  -1.26035711e-05],\n",
        "       [ -1.18728643e-07,  -2.90718718e-07,  -2.12873598e-06,\n",
        "          1.17528303e-06,  -6.39608675e-07,  -2.07591076e-06,\n",
        "          3.39650648e-06,   8.12855328e-07,   6.29041231e-07,\n",
        "         -9.74717297e-07,   1.33807892e-06],\n",
        "       [ -6.46027156e-07,  -6.54069123e-07,  -4.50926317e-07,\n",
        "         -7.63167874e-08,   7.44608384e-07,   3.09101170e-07,\n",
        "          8.12855328e-07,   4.79112229e-06,   8.73287172e-07,\n",
        "         -5.08825308e-06,  -1.45301392e-05],\n",
        "       [  1.40885031e-07,  -1.75104585e-06,  -2.18099386e-06,\n",
        "         -6.41234473e-07,   1.11472051e-07,  -3.36850890e-06,\n",
        "          6.29041231e-07,   8.73287172e-07,   7.17816103e-06,\n",
        "         -2.64803397e-06,   1.83321492e-06],\n",
        "       [  5.13176245e-07,  -7.01684118e-08,   1.84309697e-06,\n",
        "         -5.08827680e-07,  -5.93358352e-06,  -5.87403166e-07,\n",
        "         -9.74717297e-07,  -5.08825308e-06,  -2.64803397e-06,\n",
        "          1.25215663e-05,   2.22035579e-05],\n",
        "       [ -1.07064861e-05,   3.22074055e-06,  -1.75326699e-05,\n",
        "         -4.98162714e-06,  -1.72577267e-05,  -1.26035711e-05,\n",
        "          1.33807892e-06,  -1.45301392e-05,   1.83321492e-06,\n",
        "          2.22035579e-05,   4.33495319e-03]])"
       ]
      }
     ],
     "prompt_number": 16
    },
    {
     "cell_type": "code",
     "collapsed": false,
     "input": [
      "#problem 4\n",
      "rslt = [[] for i in range(10)]\n",
      "acr = []\n",
      "error = []\n",
      "PT = nums_avg.reshape(10,400)\n",
      "PT = np.vstack((PT,np.ones(400))) \n",
      "P  = PT.transpose()\n",
      "PTPinv = np.linalg.inv(np.dot(PT,P))\n",
      "\n",
      "for i in range(5000):\n",
      "    n = i/500\n",
      "    samp = nums[i]\n",
      "    PTyy = np.dot(PT,samp.flatten())\n",
      "    avec = np.dot(PTPinv,PTyy)[:10]\n",
      "    rslt[n].append(list(avec))\n",
      "    error.append(avec.argmax())\n",
      "error = np.array(error).reshape(10,500)\n",
      "for i in range(10):\n",
      "    n = len(error[i,:][error[i,:]!=i])\n",
      "    errdct = dict((x,list(error[i,:]).count(x)) for x in set(list(error[i,:])))\n",
      "    del errdct[i]\n",
      "    mx =max(errdct,key=errdct.get)\n",
      "    print \"%s of %s's were incorrectly identified, the most common guess for those failures was %s\"%(n/500., i, mx)"
     ],
     "language": "python",
     "metadata": {},
     "outputs": [
      {
       "output_type": "stream",
       "stream": "stdout",
       "text": [
        "0.28 of 0's were incorrectly identified, the most common guess for those failures was 5\n",
        "0.062 of 1's were incorrectly identified, the most common guess for those failures was 5\n",
        "0.348 of 2's were incorrectly identified, the most common guess for those failures was 3\n",
        "0.274 of 3's were incorrectly identified, the most common guess for those failures was 9\n",
        "0.238 of 4's were incorrectly identified, the most common guess for those failures was 9\n",
        "0.386 of 5's were incorrectly identified, the most common guess for those failures was 3\n",
        "0.186 of 6's were incorrectly identified, the most common guess for those failures was 5\n",
        "0.244 of 7's were incorrectly identified, the most common guess for those failures was 9\n",
        "0.296 of 8's were incorrectly identified, the most common guess for those failures was 3\n",
        "0.194 of 9's were incorrectly identified, the most common guess for those failures was 4\n"
       ]
      }
     ],
     "prompt_number": 15
    },
    {
     "cell_type": "code",
     "collapsed": false,
     "input": [],
     "language": "python",
     "metadata": {},
     "outputs": [],
     "prompt_number": 4
    },
    {
     "cell_type": "code",
     "collapsed": false,
     "input": [],
     "language": "python",
     "metadata": {},
     "outputs": [],
     "prompt_number": 5
    },
    {
     "cell_type": "code",
     "collapsed": false,
     "input": [],
     "language": "python",
     "metadata": {},
     "outputs": [],
     "prompt_number": 7
    },
    {
     "cell_type": "code",
     "collapsed": false,
     "input": [],
     "language": "python",
     "metadata": {},
     "outputs": [
      {
       "metadata": {},
       "output_type": "pyout",
       "prompt_number": 15,
       "text": [
        "array([0, 0, 0, 0, 0, 0, 0, 0, 0, 0, 0, 0, 0, 0, 0, 0, 0, 0, 0, 0], dtype=uint8)"
       ]
      }
     ],
     "prompt_number": 15
    },
    {
     "cell_type": "code",
     "collapsed": false,
     "input": [],
     "language": "python",
     "metadata": {},
     "outputs": [],
     "prompt_number": 8
    },
    {
     "cell_type": "code",
     "collapsed": false,
     "input": [],
     "language": "python",
     "metadata": {},
     "outputs": [],
     "prompt_number": 22
    },
    {
     "cell_type": "code",
     "collapsed": false,
     "input": [],
     "language": "python",
     "metadata": {},
     "outputs": [],
     "prompt_number": 9
    },
    {
     "cell_type": "code",
     "collapsed": false,
     "input": [],
     "language": "python",
     "metadata": {},
     "outputs": [],
     "prompt_number": 9
    },
    {
     "cell_type": "code",
     "collapsed": false,
     "input": [
      "## problem3"
     ],
     "language": "python",
     "metadata": {},
     "outputs": [],
     "prompt_number": 34
    },
    {
     "cell_type": "code",
     "collapsed": false,
     "input": [],
     "language": "python",
     "metadata": {},
     "outputs": []
    },
    {
     "cell_type": "code",
     "collapsed": false,
     "input": [],
     "language": "python",
     "metadata": {},
     "outputs": [],
     "prompt_number": 9
    },
    {
     "cell_type": "code",
     "collapsed": false,
     "input": [
      "plt.show()"
     ],
     "language": "python",
     "metadata": {},
     "outputs": [],
     "prompt_number": 29
    }
   ],
   "metadata": {}
  }
 ]
}