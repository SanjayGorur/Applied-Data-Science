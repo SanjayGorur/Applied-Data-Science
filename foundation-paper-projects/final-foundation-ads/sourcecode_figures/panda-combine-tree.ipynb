{
 "metadata": {
  "name": "",
  "signature": "sha256:934e8cd56bce94e619077a5f2c7e8b6c71a7193c9a7635cff37ff0de073dc0f7"
 },
 "nbformat": 3,
 "nbformat_minor": 0,
 "worksheets": [
  {
   "cells": [
    {
     "cell_type": "code",
     "collapsed": false,
     "input": [
      "import argparse,csv, sys, os\n",
      "from datetime import date,datetime\n",
      "import matplotlib.pyplot as plt\n",
      "import matplotlib.dates as dates\n",
      "import numpy as np\n",
      "from collections import OrderedDict,defaultdict\n",
      "import pandas as pd\n",
      "import statsmodels.api as sm\n",
      "import statsmodels.formula.api as smf\n",
      "from statsmodels.sandbox.regression.predstd import wls_prediction_std\n",
      "\n",
      "\n",
      "dpr = \"csv/2013-DPR-numComplaints.csv\"\n",
      "tree = \"csv/ManhattanTree-small.csv\""
     ],
     "language": "python",
     "metadata": {},
     "outputs": [],
     "prompt_number": 1
    },
    {
     "cell_type": "code",
     "collapsed": false,
     "input": [
      "df_dpr = pd.read_csv(dpr)\n",
      "df_pop = pd.read_csv(tree)\n",
      "\n",
      "print df_dpr.head()\n",
      "print df_pop.head()\n"
     ],
     "language": "python",
     "metadata": {},
     "outputs": [
      {
       "output_type": "stream",
       "stream": "stdout",
       "text": [
        "     zip  num\n",
        "0  10453    3\n",
        "1  10452    3\n",
        "2  10451    3\n",
        "3  10457    6\n",
        "4  10456    5\n",
        "            ONSTREET    BOROUGH  ZIPCODE\n",
        "0      TRINITY PLACE  Manhattan    10006\n",
        "1      TRINITY PLACE  Manhattan    10006\n",
        "2  WASHINGTON STREET  Manhattan    10004\n",
        "3  WASHINGTON STREET  Manhattan    10004\n",
        "4  WASHINGTON STREET  Manhattan    10004\n"
       ]
      }
     ],
     "prompt_number": 3
    },
    {
     "cell_type": "code",
     "collapsed": false,
     "input": [
      "#s = df_dpr.loc[:,'zip']\n",
      "#print len(s)\n",
      "#print len(s.unique())\n",
      "df_dpr = df_dpr.groupby(['zip'], sort=True).sum()\n",
      "df_dpr.head()\n",
      "#print len(s)\n",
      "#print len(s.unique())\n",
      " \n",
      "    "
     ],
     "language": "python",
     "metadata": {},
     "outputs": [
      {
       "html": [
        "<div style=\"max-height:1000px;max-width:1500px;overflow:auto;\">\n",
        "<table border=\"1\" class=\"dataframe\">\n",
        "  <thead>\n",
        "    <tr style=\"text-align: right;\">\n",
        "      <th></th>\n",
        "      <th>num</th>\n",
        "    </tr>\n",
        "    <tr>\n",
        "      <th>zip</th>\n",
        "      <th></th>\n",
        "    </tr>\n",
        "  </thead>\n",
        "  <tbody>\n",
        "    <tr>\n",
        "      <th>83   </th>\n",
        "      <td>  2</td>\n",
        "    </tr>\n",
        "    <tr>\n",
        "      <th>10000</th>\n",
        "      <td>  2</td>\n",
        "    </tr>\n",
        "    <tr>\n",
        "      <th>10001</th>\n",
        "      <td>  7</td>\n",
        "    </tr>\n",
        "    <tr>\n",
        "      <th>10002</th>\n",
        "      <td> 46</td>\n",
        "    </tr>\n",
        "    <tr>\n",
        "      <th>10003</th>\n",
        "      <td> 15</td>\n",
        "    </tr>\n",
        "  </tbody>\n",
        "</table>\n",
        "</div>"
       ],
       "metadata": {},
       "output_type": "pyout",
       "prompt_number": 4,
       "text": [
        "       num\n",
        "zip       \n",
        "83       2\n",
        "10000    2\n",
        "10001    7\n",
        "10002   46\n",
        "10003   15"
       ]
      }
     ],
     "prompt_number": 4
    },
    {
     "cell_type": "code",
     "collapsed": false,
     "input": [],
     "language": "python",
     "metadata": {},
     "outputs": [],
     "prompt_number": 53
    },
    {
     "cell_type": "code",
     "collapsed": false,
     "input": [
      "df_pop = df_pop.drop('ONSTREET',1)\n",
      "df_pop = df_pop.drop('BOROUGH',1)\n",
      "df_pop.head()"
     ],
     "language": "python",
     "metadata": {},
     "outputs": [
      {
       "html": [
        "<div style=\"max-height:1000px;max-width:1500px;overflow:auto;\">\n",
        "<table border=\"1\" class=\"dataframe\">\n",
        "  <thead>\n",
        "    <tr style=\"text-align: right;\">\n",
        "      <th></th>\n",
        "      <th>ZIPCODE</th>\n",
        "    </tr>\n",
        "  </thead>\n",
        "  <tbody>\n",
        "    <tr>\n",
        "      <th>0</th>\n",
        "      <td> 10006</td>\n",
        "    </tr>\n",
        "    <tr>\n",
        "      <th>1</th>\n",
        "      <td> 10006</td>\n",
        "    </tr>\n",
        "    <tr>\n",
        "      <th>2</th>\n",
        "      <td> 10004</td>\n",
        "    </tr>\n",
        "    <tr>\n",
        "      <th>3</th>\n",
        "      <td> 10004</td>\n",
        "    </tr>\n",
        "    <tr>\n",
        "      <th>4</th>\n",
        "      <td> 10004</td>\n",
        "    </tr>\n",
        "  </tbody>\n",
        "</table>\n",
        "</div>"
       ],
       "metadata": {},
       "output_type": "pyout",
       "prompt_number": 5,
       "text": [
        "   ZIPCODE\n",
        "0    10006\n",
        "1    10006\n",
        "2    10004\n",
        "3    10004\n",
        "4    10004"
       ]
      }
     ],
     "prompt_number": 5
    },
    {
     "cell_type": "code",
     "collapsed": false,
     "input": [
      "df_pop['tree']=1\n",
      "df_pop.head()"
     ],
     "language": "python",
     "metadata": {},
     "outputs": [
      {
       "html": [
        "<div style=\"max-height:1000px;max-width:1500px;overflow:auto;\">\n",
        "<table border=\"1\" class=\"dataframe\">\n",
        "  <thead>\n",
        "    <tr style=\"text-align: right;\">\n",
        "      <th></th>\n",
        "      <th>ZIPCODE</th>\n",
        "      <th>tree</th>\n",
        "    </tr>\n",
        "  </thead>\n",
        "  <tbody>\n",
        "    <tr>\n",
        "      <th>0</th>\n",
        "      <td> 10006</td>\n",
        "      <td> 1</td>\n",
        "    </tr>\n",
        "    <tr>\n",
        "      <th>1</th>\n",
        "      <td> 10006</td>\n",
        "      <td> 1</td>\n",
        "    </tr>\n",
        "    <tr>\n",
        "      <th>2</th>\n",
        "      <td> 10004</td>\n",
        "      <td> 1</td>\n",
        "    </tr>\n",
        "    <tr>\n",
        "      <th>3</th>\n",
        "      <td> 10004</td>\n",
        "      <td> 1</td>\n",
        "    </tr>\n",
        "    <tr>\n",
        "      <th>4</th>\n",
        "      <td> 10004</td>\n",
        "      <td> 1</td>\n",
        "    </tr>\n",
        "  </tbody>\n",
        "</table>\n",
        "</div>"
       ],
       "metadata": {},
       "output_type": "pyout",
       "prompt_number": 6,
       "text": [
        "   ZIPCODE  tree\n",
        "0    10006     1\n",
        "1    10006     1\n",
        "2    10004     1\n",
        "3    10004     1\n",
        "4    10004     1"
       ]
      }
     ],
     "prompt_number": 6
    },
    {
     "cell_type": "code",
     "collapsed": false,
     "input": [
      "df_pop = df_pop.groupby(['ZIPCODE'], sort=True).sum()\n",
      "df_pop.head()\n",
      "#df_pop['counter']=1\n",
      "#for key, group in df_pop.groupby('ZIPCODE'):\n",
      "#  group.counter.resample('D', how=\"sum\")\n",
      "#print df_pop"
     ],
     "language": "python",
     "metadata": {},
     "outputs": [
      {
       "html": [
        "<div style=\"max-height:1000px;max-width:1500px;overflow:auto;\">\n",
        "<table border=\"1\" class=\"dataframe\">\n",
        "  <thead>\n",
        "    <tr style=\"text-align: right;\">\n",
        "      <th></th>\n",
        "      <th>tree</th>\n",
        "    </tr>\n",
        "    <tr>\n",
        "      <th>ZIPCODE</th>\n",
        "      <th></th>\n",
        "    </tr>\n",
        "  </thead>\n",
        "  <tbody>\n",
        "    <tr>\n",
        "      <th>10001</th>\n",
        "      <td>  742</td>\n",
        "    </tr>\n",
        "    <tr>\n",
        "      <th>10002</th>\n",
        "      <td> 1082</td>\n",
        "    </tr>\n",
        "    <tr>\n",
        "      <th>10003</th>\n",
        "      <td> 1940</td>\n",
        "    </tr>\n",
        "    <tr>\n",
        "      <th>10004</th>\n",
        "      <td>   93</td>\n",
        "    </tr>\n",
        "    <tr>\n",
        "      <th>10005</th>\n",
        "      <td>  133</td>\n",
        "    </tr>\n",
        "  </tbody>\n",
        "</table>\n",
        "</div>"
       ],
       "metadata": {},
       "output_type": "pyout",
       "prompt_number": 7,
       "text": [
        "         tree\n",
        "ZIPCODE      \n",
        "10001     742\n",
        "10002    1082\n",
        "10003    1940\n",
        "10004      93\n",
        "10005     133"
       ]
      }
     ],
     "prompt_number": 7
    },
    {
     "cell_type": "code",
     "collapsed": false,
     "input": [
      "len(df_pop)"
     ],
     "language": "python",
     "metadata": {},
     "outputs": [
      {
       "metadata": {},
       "output_type": "pyout",
       "prompt_number": 8,
       "text": [
        "45"
       ]
      }
     ],
     "prompt_number": 8
    },
    {
     "cell_type": "code",
     "collapsed": false,
     "input": [
      "df = pd.merge(df_dpr, df_pop, left_index=True, right_index=True, how='inner')\n",
      "df = df.fillna(method='pad')\n",
      "df.head()\n",
      "#df.to_csv('2011-small.csv')\n"
     ],
     "language": "python",
     "metadata": {},
     "outputs": [
      {
       "html": [
        "<div style=\"max-height:1000px;max-width:1500px;overflow:auto;\">\n",
        "<table border=\"1\" class=\"dataframe\">\n",
        "  <thead>\n",
        "    <tr style=\"text-align: right;\">\n",
        "      <th></th>\n",
        "      <th>num</th>\n",
        "      <th>tree</th>\n",
        "    </tr>\n",
        "  </thead>\n",
        "  <tbody>\n",
        "    <tr>\n",
        "      <th>10001</th>\n",
        "      <td>  7</td>\n",
        "      <td>  742</td>\n",
        "    </tr>\n",
        "    <tr>\n",
        "      <th>10002</th>\n",
        "      <td> 46</td>\n",
        "      <td> 1082</td>\n",
        "    </tr>\n",
        "    <tr>\n",
        "      <th>10003</th>\n",
        "      <td> 15</td>\n",
        "      <td> 1940</td>\n",
        "    </tr>\n",
        "    <tr>\n",
        "      <th>10004</th>\n",
        "      <td>  3</td>\n",
        "      <td>   93</td>\n",
        "    </tr>\n",
        "    <tr>\n",
        "      <th>10007</th>\n",
        "      <td> 10</td>\n",
        "      <td>  120</td>\n",
        "    </tr>\n",
        "  </tbody>\n",
        "</table>\n",
        "</div>"
       ],
       "metadata": {},
       "output_type": "pyout",
       "prompt_number": 9,
       "text": [
        "       num  tree\n",
        "10001    7   742\n",
        "10002   46  1082\n",
        "10003   15  1940\n",
        "10004    3    93\n",
        "10007   10   120"
       ]
      }
     ],
     "prompt_number": 9
    },
    {
     "cell_type": "code",
     "collapsed": false,
     "input": [],
     "language": "python",
     "metadata": {},
     "outputs": [],
     "prompt_number": 57
    },
    {
     "cell_type": "code",
     "collapsed": false,
     "input": [],
     "language": "python",
     "metadata": {},
     "outputs": [],
     "prompt_number": 57
    },
    {
     "cell_type": "code",
     "collapsed": false,
     "input": [
      "df.tree=(df.tree/100)\n",
      "df.head()\n",
      "#df.to_csv('2013-ComplaintsVStree.csv')"
     ],
     "language": "python",
     "metadata": {},
     "outputs": [
      {
       "html": [
        "<div style=\"max-height:1000px;max-width:1500px;overflow:auto;\">\n",
        "<table border=\"1\" class=\"dataframe\">\n",
        "  <thead>\n",
        "    <tr style=\"text-align: right;\">\n",
        "      <th></th>\n",
        "      <th>num</th>\n",
        "      <th>tree</th>\n",
        "    </tr>\n",
        "  </thead>\n",
        "  <tbody>\n",
        "    <tr>\n",
        "      <th>10001</th>\n",
        "      <td>  7</td>\n",
        "      <td>  7.42</td>\n",
        "    </tr>\n",
        "    <tr>\n",
        "      <th>10002</th>\n",
        "      <td> 46</td>\n",
        "      <td> 10.82</td>\n",
        "    </tr>\n",
        "    <tr>\n",
        "      <th>10003</th>\n",
        "      <td> 15</td>\n",
        "      <td> 19.40</td>\n",
        "    </tr>\n",
        "    <tr>\n",
        "      <th>10004</th>\n",
        "      <td>  3</td>\n",
        "      <td>  0.93</td>\n",
        "    </tr>\n",
        "    <tr>\n",
        "      <th>10007</th>\n",
        "      <td> 10</td>\n",
        "      <td>  1.20</td>\n",
        "    </tr>\n",
        "  </tbody>\n",
        "</table>\n",
        "</div>"
       ],
       "metadata": {},
       "output_type": "pyout",
       "prompt_number": 10,
       "text": [
        "       num   tree\n",
        "10001    7   7.42\n",
        "10002   46  10.82\n",
        "10003   15  19.40\n",
        "10004    3   0.93\n",
        "10007   10   1.20"
       ]
      }
     ],
     "prompt_number": 10
    },
    {
     "cell_type": "code",
     "collapsed": false,
     "input": [
      "\n",
      "#plt.style.use('ggplot')"
     ],
     "language": "python",
     "metadata": {},
     "outputs": [
      {
       "ename": "AttributeError",
       "evalue": "'module' object has no attribute 'style'",
       "output_type": "pyerr",
       "traceback": [
        "\u001b[0;31m---------------------------------------------------------------------------\u001b[0m\n\u001b[0;31mAttributeError\u001b[0m                            Traceback (most recent call last)",
        "\u001b[0;32m<ipython-input-11-0a69e2786128>\u001b[0m in \u001b[0;36m<module>\u001b[0;34m()\u001b[0m\n\u001b[1;32m      1\u001b[0m \u001b[0;34m\u001b[0m\u001b[0m\n\u001b[0;32m----> 2\u001b[0;31m \u001b[0mplt\u001b[0m\u001b[0;34m.\u001b[0m\u001b[0mstyle\u001b[0m\u001b[0;34m.\u001b[0m\u001b[0muse\u001b[0m\u001b[0;34m(\u001b[0m\u001b[0;34m'ggplot'\u001b[0m\u001b[0;34m)\u001b[0m\u001b[0;34m\u001b[0m\u001b[0m\n\u001b[0m",
        "\u001b[0;31mAttributeError\u001b[0m: 'module' object has no attribute 'style'"
       ]
      }
     ],
     "prompt_number": 11
    },
    {
     "cell_type": "code",
     "collapsed": false,
     "input": [
      "xname = 'tree'\n",
      "yname = 'num'\n",
      "x = df[xname]\n",
      "y = df[yname]\n",
      " \n",
      "fig, ax = plt.subplots(1, 1, figsize=(8,8))\n",
      "ax.set_title('Tree number VS DPR complaints')\n",
      "ax.scatter(x,y, color = 'grey', marker='o' ,alpha=0.5, s = 50)\n",
      "ax.set_xlabel('Number of tree per zipcode (in hundreds unit)')\n",
      "ax.set_ylabel('Number of complaints')\n",
      "ax.grid(True)\n",
      "\n",
      "X = sm.add_constant(x)\n",
      "model = sm.OLS(y, X)\n",
      "result = model.fit()\n",
      "print result.summary()\n",
      "ax.plot(x, result.fittedvalues, 'k-', alpha=1,\n",
      "        linewidth=3,label=('linear fitted\\n'+r'$\\beta:$'+'%.2f\\n'%(result.params[1])+r'$R^2:$'+'%.2f'%(result.rsquared)))\n",
      "\n",
      "model_cubic = smf.ols(formula='%s~ 1 + %s+ I(%s ** 2.0)'%(yname,xname,xname), data=df)\n",
      "result = model_cubic.fit()\n",
      "print result.summary()\n",
      "ax.plot(x, result.fittedvalues, 'g^', alpha=0.8,\n",
      "        markersize=8,label=('cubic fitted\\n'+r'$\\beta_1:$'+'%.2f\\n'%(result.params[1])+r'$\\beta_2:$'+'%.2f\\n'%(result.params[2])+r'$R^2:$'+'%.2f'%(result.rsquared)))\n",
      "ax.legend(loc='upper left', shadow=True, fontsize=\"medium\")\n",
      "\n",
      "\n",
      "plt.savefig('output-tree-2013-new.png')\n",
      "plt.show()"
     ],
     "language": "python",
     "metadata": {},
     "outputs": [
      {
       "output_type": "stream",
       "stream": "stdout",
       "text": [
        "                            OLS Regression Results                            \n",
        "==============================================================================\n",
        "Dep. Variable:                    num   R-squared:                       0.367\n",
        "Model:                            OLS   Adj. R-squared:                  0.350\n",
        "Method:                 Least Squares   F-statistic:                     21.42\n",
        "Date:                Thu, 27 Nov 2014   Prob (F-statistic):           4.43e-05\n",
        "Time:                        02:02:34   Log-Likelihood:                -143.53\n",
        "No. Observations:                  39   AIC:                             291.1\n",
        "Df Residuals:                      37   BIC:                             294.4\n",
        "Df Model:                           1                                         \n",
        "==============================================================================\n",
        "                 coef    std err          t      P>|t|      [95.0% Conf. Int.]\n",
        "------------------------------------------------------------------------------\n",
        "const          3.4246      2.642      1.296      0.203        -1.928     8.777\n",
        "tree           0.7677      0.166      4.628      0.000         0.432     1.104\n",
        "==============================================================================\n",
        "Omnibus:                       18.019   Durbin-Watson:                   2.272\n",
        "Prob(Omnibus):                  0.000   Jarque-Bera (JB):               23.554\n",
        "Skew:                           1.399   Prob(JB):                     7.68e-06\n",
        "Kurtosis:                       5.582   Cond. No.                         26.7\n",
        "==============================================================================\n",
        "                            OLS Regression Results                            \n",
        "==============================================================================\n",
        "Dep. Variable:                    num   R-squared:                       0.381\n",
        "Model:                            OLS   Adj. R-squared:                  0.346\n",
        "Method:                 Least Squares   F-statistic:                     11.06\n",
        "Date:                Thu, 27 Nov 2014   Prob (F-statistic):           0.000180\n",
        "Time:                        02:02:34   Log-Likelihood:                -143.09\n",
        "No. Observations:                  39   AIC:                             292.2\n",
        "Df Residuals:                      36   BIC:                             297.2\n",
        "Df Model:                           2                                         \n",
        "==================================================================================\n",
        "                     coef    std err          t      P>|t|      [95.0% Conf. Int.]\n",
        "----------------------------------------------------------------------------------\n",
        "Intercept          5.6142      3.590      1.564      0.127        -1.667    12.896\n",
        "tree               0.4137      0.426      0.972      0.338        -0.450     1.277\n",
        "I(tree ** 2.0)     0.0092      0.010      0.903      0.372        -0.011     0.030\n",
        "==============================================================================\n",
        "Omnibus:                       20.469   Durbin-Watson:                   2.234\n",
        "Prob(Omnibus):                  0.000   Jarque-Bera (JB):               29.947\n",
        "Skew:                           1.509   Prob(JB):                     3.14e-07\n",
        "Kurtosis:                       6.053   Cond. No.                     1.08e+03\n",
        "==============================================================================\n",
        "\n",
        "Warnings:\n",
        "[1] The condition number is large, 1.08e+03. This might indicate that there are\n",
        "strong multicollinearity or other numerical problems.\n"
       ]
      }
     ],
     "prompt_number": 83
    }
   ],
   "metadata": {}
  }
 ]
}