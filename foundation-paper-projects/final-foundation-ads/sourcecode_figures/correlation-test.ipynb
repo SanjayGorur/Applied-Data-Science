{
 "metadata": {
  "name": "",
  "signature": "sha256:7cf468b06aaedc4661ee1449656d62ce2b45bfd82d46bfdfcd35f21db6b6afe2"
 },
 "nbformat": 3,
 "nbformat_minor": 0,
 "worksheets": [
  {
   "cells": [
    {
     "cell_type": "code",
     "collapsed": false,
     "input": [
      "import argparse,csv, sys, os\n",
      "from datetime import date,datetime\n",
      "import matplotlib.pyplot as plt\n",
      "import matplotlib.dates as dates\n",
      "import numpy as np\n",
      "from collections import OrderedDict,defaultdict\n",
      "import pandas as pd\n",
      "\n",
      "csv_filename = \"2013-small.csv\"\n",
      "num = 10\n",
      "sDate =  \"2012/10/01-00:00:00\"\n",
      "eDate =  \"2012/11/30-23:59:00\"\n"
     ],
     "language": "python",
     "metadata": {},
     "outputs": [],
     "prompt_number": 33
    },
    {
     "cell_type": "code",
     "collapsed": false,
     "input": [
      "df = pd.read_csv(csv_filename, parse_dates=True, index_col = 2)\n",
      "df.head()"
     ],
     "language": "python",
     "metadata": {},
     "outputs": [
      {
       "html": [
        "<div style=\"max-height:1000px;max-width:1500px;overflow:auto;\">\n",
        "<table border=\"1\" class=\"dataframe\">\n",
        "  <thead>\n",
        "    <tr style=\"text-align: right;\">\n",
        "      <th></th>\n",
        "      <th>Unnamed: 0</th>\n",
        "      <th>Unique Key</th>\n",
        "      <th>Closed Date</th>\n",
        "      <th>Agency</th>\n",
        "      <th>Agency Name</th>\n",
        "      <th>Complaint Type</th>\n",
        "      <th>Latitude</th>\n",
        "      <th>Longitude</th>\n",
        "    </tr>\n",
        "    <tr>\n",
        "      <th>Created Date</th>\n",
        "      <th></th>\n",
        "      <th></th>\n",
        "      <th></th>\n",
        "      <th></th>\n",
        "      <th></th>\n",
        "      <th></th>\n",
        "      <th></th>\n",
        "      <th></th>\n",
        "    </tr>\n",
        "  </thead>\n",
        "  <tbody>\n",
        "    <tr>\n",
        "      <th>2014-01-31 23:59:42</th>\n",
        "      <td> 0</td>\n",
        "      <td> 27305546</td>\n",
        "      <td> 02/01/2014 12:08:40 AM</td>\n",
        "      <td> NYPD</td>\n",
        "      <td> New York City Police Department</td>\n",
        "      <td>                Noise - Commercial</td>\n",
        "      <td> 40.816171</td>\n",
        "      <td>-73.957930</td>\n",
        "    </tr>\n",
        "    <tr>\n",
        "      <th>2014-01-31 23:58:54</th>\n",
        "      <td> 1</td>\n",
        "      <td> 27301039</td>\n",
        "      <td> 02/01/2014 01:09:50 AM</td>\n",
        "      <td> NYPD</td>\n",
        "      <td> New York City Police Department</td>\n",
        "      <td>                Noise - Commercial</td>\n",
        "      <td> 40.723869</td>\n",
        "      <td>-73.983884</td>\n",
        "    </tr>\n",
        "    <tr>\n",
        "      <th>2014-01-31 23:58:11</th>\n",
        "      <td> 2</td>\n",
        "      <td> 27306608</td>\n",
        "      <td> 02/10/2014 03:08:03 PM</td>\n",
        "      <td>  TLC</td>\n",
        "      <td>   Taxi and Limousine Commission</td>\n",
        "      <td>                    Taxi Complaint</td>\n",
        "      <td> 40.750209</td>\n",
        "      <td>-74.002332</td>\n",
        "    </tr>\n",
        "    <tr>\n",
        "      <th>2014-01-31 23:58:00</th>\n",
        "      <td> 3</td>\n",
        "      <td> 27301535</td>\n",
        "      <td> 02/01/2014 12:00:00 PM</td>\n",
        "      <td> DSNY</td>\n",
        "      <td>            BCC - Brooklyn South</td>\n",
        "      <td> Missed Collection (All Materials)</td>\n",
        "      <td> 40.668429</td>\n",
        "      <td>-73.977762</td>\n",
        "    </tr>\n",
        "    <tr>\n",
        "      <th>2014-01-31 23:57:52</th>\n",
        "      <td> 4</td>\n",
        "      <td> 27307327</td>\n",
        "      <td> 02/01/2014 05:24:57 AM</td>\n",
        "      <td> NYPD</td>\n",
        "      <td> New York City Police Department</td>\n",
        "      <td>                   Illegal Parking</td>\n",
        "      <td> 40.696378</td>\n",
        "      <td>-73.857315</td>\n",
        "    </tr>\n",
        "  </tbody>\n",
        "</table>\n",
        "</div>"
       ],
       "metadata": {},
       "output_type": "pyout",
       "prompt_number": 34,
       "text": [
        "                     Unnamed: 0  Unique Key             Closed Date Agency  \\\n",
        "Created Date                                                                 \n",
        "2014-01-31 23:59:42           0    27305546  02/01/2014 12:08:40 AM   NYPD   \n",
        "2014-01-31 23:58:54           1    27301039  02/01/2014 01:09:50 AM   NYPD   \n",
        "2014-01-31 23:58:11           2    27306608  02/10/2014 03:08:03 PM    TLC   \n",
        "2014-01-31 23:58:00           3    27301535  02/01/2014 12:00:00 PM   DSNY   \n",
        "2014-01-31 23:57:52           4    27307327  02/01/2014 05:24:57 AM   NYPD   \n",
        "\n",
        "                                         Agency Name  \\\n",
        "Created Date                                           \n",
        "2014-01-31 23:59:42  New York City Police Department   \n",
        "2014-01-31 23:58:54  New York City Police Department   \n",
        "2014-01-31 23:58:11    Taxi and Limousine Commission   \n",
        "2014-01-31 23:58:00             BCC - Brooklyn South   \n",
        "2014-01-31 23:57:52  New York City Police Department   \n",
        "\n",
        "                                        Complaint Type   Latitude  Longitude  \n",
        "Created Date                                                                  \n",
        "2014-01-31 23:59:42                 Noise - Commercial  40.816171 -73.957930  \n",
        "2014-01-31 23:58:54                 Noise - Commercial  40.723869 -73.983884  \n",
        "2014-01-31 23:58:11                     Taxi Complaint  40.750209 -74.002332  \n",
        "2014-01-31 23:58:00  Missed Collection (All Materials)  40.668429 -73.977762  \n",
        "2014-01-31 23:57:52                    Illegal Parking  40.696378 -73.857315  "
       ]
      }
     ],
     "prompt_number": 34
    },
    {
     "cell_type": "code",
     "collapsed": false,
     "input": [
      "complaints = df[df.index < datetime.strptime(\"2013-12-01 00:00:00\",\"%Y-%m-%d %H:%M:%S\")]\n",
      "del df"
     ],
     "language": "python",
     "metadata": {},
     "outputs": [],
     "prompt_number": 35
    },
    {
     "cell_type": "code",
     "collapsed": false,
     "input": [
      "complaints = complaints[complaints['Agency'] == 'DPR']"
     ],
     "language": "python",
     "metadata": {},
     "outputs": [],
     "prompt_number": 36
    },
    {
     "cell_type": "code",
     "collapsed": false,
     "input": [
      "complaints = complaints[complaints.index!=pd.NaT]\n",
      "complaints['counter']=1\n",
      "plt.figure(figsize=(16,10))\n",
      "for key, group in complaints.groupby('Agency'):\n",
      "    if key != 'Unspecified':\n",
      "      temp_df = group.counter.resample('D', how=\"sum\")\n",
      "      temp_df.plot(label = key, x_compat=True)\n",
      "\n"
     ],
     "language": "python",
     "metadata": {},
     "outputs": [],
     "prompt_number": 37
    },
    {
     "cell_type": "code",
     "collapsed": false,
     "input": [
      "plt.style.use('ggplot')"
     ],
     "language": "python",
     "metadata": {},
     "outputs": [],
     "prompt_number": 15
    },
    {
     "cell_type": "code",
     "collapsed": false,
     "input": [
      "  plt.legend(loc='upper right', shadow=True)\n",
      "  plt.grid(False)\n",
      "  plt.ylim(0,4500)\n",
      "  plt.xlabel('Time')\n",
      "  plt.ylabel('Number of complaints')\n",
      "  plt.title('2013')\n",
      "  plt.margins(.07,.07)\n",
      "  plt.savefig('2013-ts.png')\n",
      "  plt.show()"
     ],
     "language": "python",
     "metadata": {},
     "outputs": []
    },
    {
     "cell_type": "code",
     "collapsed": false,
     "input": [
      "z"
     ],
     "language": "python",
     "metadata": {},
     "outputs": []
    }
   ],
   "metadata": {}
  }
 ]
}