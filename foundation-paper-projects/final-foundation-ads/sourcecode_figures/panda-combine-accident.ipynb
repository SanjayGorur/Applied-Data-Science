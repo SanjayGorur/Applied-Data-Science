{
 "metadata": {
  "name": "",
  "signature": "sha256:af6a3f15d16e82d4dda89ccf1abe1876ebce1fff0b9d4223b4494e55d434234d"
 },
 "nbformat": 3,
 "nbformat_minor": 0,
 "worksheets": [
  {
   "cells": [
    {
     "cell_type": "code",
     "collapsed": false,
     "input": [
      "import argparse,csv, sys, os\n",
      "from datetime import date,datetime\n",
      "import matplotlib.pyplot as plt\n",
      "import matplotlib.dates as dates\n",
      "import numpy as np\n",
      "from collections import OrderedDict,defaultdict\n",
      "import pandas as pd\n",
      "import statsmodels.api as sm\n",
      "import statsmodels.formula.api as smf\n",
      "from statsmodels.sandbox.regression.predstd import wls_prediction_std\n",
      "\n",
      "\n",
      "dpr = \"csv/2013-DPR-numComplaints.csv\"\n",
      "accident = \"csv/Vehicle_Collisions2013_small.csv\""
     ],
     "language": "python",
     "metadata": {},
     "outputs": [],
     "prompt_number": 68
    },
    {
     "cell_type": "code",
     "collapsed": false,
     "input": [
      "df_dpr = pd.read_csv(dpr)\n",
      "df_pop = pd.read_csv(accident)\n",
      "\n",
      "print df_dpr.head()\n",
      "print df_pop.head()\n"
     ],
     "language": "python",
     "metadata": {},
     "outputs": [
      {
       "output_type": "stream",
       "stream": "stdout",
       "text": [
        "     zip  num\n",
        "0  10453    3\n",
        "1  10452    3\n",
        "2  10451    3\n",
        "3  10457    6\n",
        "4  10456    5\n",
        "      DATE  ZIP CODE\n",
        "0  10/2/13     11692\n",
        "1  10/2/13     11691\n",
        "2  10/2/13     11435\n",
        "3  10/2/13     11435\n",
        "4  10/2/13     11434\n"
       ]
      }
     ],
     "prompt_number": 69
    },
    {
     "cell_type": "code",
     "collapsed": false,
     "input": [
      "#s = df_dpr.loc[:,'zip']\n",
      "#print len(s)\n",
      "#print len(s.unique())\n",
      "df_dpr = df_dpr.groupby(['zip'], sort=True).sum()\n",
      "df_dpr.head()\n",
      "#print len(s)\n",
      "#print len(s.unique())\n",
      " \n",
      "    "
     ],
     "language": "python",
     "metadata": {},
     "outputs": [
      {
       "html": [
        "<div style=\"max-height:1000px;max-width:1500px;overflow:auto;\">\n",
        "<table border=\"1\" class=\"dataframe\">\n",
        "  <thead>\n",
        "    <tr style=\"text-align: right;\">\n",
        "      <th></th>\n",
        "      <th>num</th>\n",
        "    </tr>\n",
        "    <tr>\n",
        "      <th>zip</th>\n",
        "      <th></th>\n",
        "    </tr>\n",
        "  </thead>\n",
        "  <tbody>\n",
        "    <tr>\n",
        "      <th>83   </th>\n",
        "      <td>  2</td>\n",
        "    </tr>\n",
        "    <tr>\n",
        "      <th>10000</th>\n",
        "      <td>  2</td>\n",
        "    </tr>\n",
        "    <tr>\n",
        "      <th>10001</th>\n",
        "      <td>  7</td>\n",
        "    </tr>\n",
        "    <tr>\n",
        "      <th>10002</th>\n",
        "      <td> 46</td>\n",
        "    </tr>\n",
        "    <tr>\n",
        "      <th>10003</th>\n",
        "      <td> 15</td>\n",
        "    </tr>\n",
        "  </tbody>\n",
        "</table>\n",
        "</div>"
       ],
       "metadata": {},
       "output_type": "pyout",
       "prompt_number": 70,
       "text": [
        "       num\n",
        "zip       \n",
        "83       2\n",
        "10000    2\n",
        "10001    7\n",
        "10002   46\n",
        "10003   15"
       ]
      }
     ],
     "prompt_number": 70
    },
    {
     "cell_type": "code",
     "collapsed": false,
     "input": [],
     "language": "python",
     "metadata": {},
     "outputs": [],
     "prompt_number": 53
    },
    {
     "cell_type": "code",
     "collapsed": false,
     "input": [
      "df_pop = df_pop.drop('DATE',1)\n",
      "df_pop.head()"
     ],
     "language": "python",
     "metadata": {},
     "outputs": [
      {
       "html": [
        "<div style=\"max-height:1000px;max-width:1500px;overflow:auto;\">\n",
        "<table border=\"1\" class=\"dataframe\">\n",
        "  <thead>\n",
        "    <tr style=\"text-align: right;\">\n",
        "      <th></th>\n",
        "      <th>ZIP CODE</th>\n",
        "    </tr>\n",
        "  </thead>\n",
        "  <tbody>\n",
        "    <tr>\n",
        "      <th>0</th>\n",
        "      <td> 11692</td>\n",
        "    </tr>\n",
        "    <tr>\n",
        "      <th>1</th>\n",
        "      <td> 11691</td>\n",
        "    </tr>\n",
        "    <tr>\n",
        "      <th>2</th>\n",
        "      <td> 11435</td>\n",
        "    </tr>\n",
        "    <tr>\n",
        "      <th>3</th>\n",
        "      <td> 11435</td>\n",
        "    </tr>\n",
        "    <tr>\n",
        "      <th>4</th>\n",
        "      <td> 11434</td>\n",
        "    </tr>\n",
        "  </tbody>\n",
        "</table>\n",
        "</div>"
       ],
       "metadata": {},
       "output_type": "pyout",
       "prompt_number": 71,
       "text": [
        "   ZIP CODE\n",
        "0     11692\n",
        "1     11691\n",
        "2     11435\n",
        "3     11435\n",
        "4     11434"
       ]
      }
     ],
     "prompt_number": 71
    },
    {
     "cell_type": "code",
     "collapsed": false,
     "input": [
      "df_pop['accident']=1\n",
      "df_pop.head()"
     ],
     "language": "python",
     "metadata": {},
     "outputs": [
      {
       "html": [
        "<div style=\"max-height:1000px;max-width:1500px;overflow:auto;\">\n",
        "<table border=\"1\" class=\"dataframe\">\n",
        "  <thead>\n",
        "    <tr style=\"text-align: right;\">\n",
        "      <th></th>\n",
        "      <th>ZIP CODE</th>\n",
        "      <th>accident</th>\n",
        "    </tr>\n",
        "  </thead>\n",
        "  <tbody>\n",
        "    <tr>\n",
        "      <th>0</th>\n",
        "      <td> 11692</td>\n",
        "      <td> 1</td>\n",
        "    </tr>\n",
        "    <tr>\n",
        "      <th>1</th>\n",
        "      <td> 11691</td>\n",
        "      <td> 1</td>\n",
        "    </tr>\n",
        "    <tr>\n",
        "      <th>2</th>\n",
        "      <td> 11435</td>\n",
        "      <td> 1</td>\n",
        "    </tr>\n",
        "    <tr>\n",
        "      <th>3</th>\n",
        "      <td> 11435</td>\n",
        "      <td> 1</td>\n",
        "    </tr>\n",
        "    <tr>\n",
        "      <th>4</th>\n",
        "      <td> 11434</td>\n",
        "      <td> 1</td>\n",
        "    </tr>\n",
        "  </tbody>\n",
        "</table>\n",
        "</div>"
       ],
       "metadata": {},
       "output_type": "pyout",
       "prompt_number": 72,
       "text": [
        "   ZIP CODE  accident\n",
        "0     11692         1\n",
        "1     11691         1\n",
        "2     11435         1\n",
        "3     11435         1\n",
        "4     11434         1"
       ]
      }
     ],
     "prompt_number": 72
    },
    {
     "cell_type": "code",
     "collapsed": false,
     "input": [
      "df_pop = df_pop.groupby(['ZIP CODE'], sort=True).sum()\n",
      "df_pop.head()\n",
      "#df_pop['counter']=1\n",
      "#for key, group in df_pop.groupby('ZIPCODE'):\n",
      "#  group.counter.resample('D', how=\"sum\")\n",
      "#print df_pop"
     ],
     "language": "python",
     "metadata": {},
     "outputs": [
      {
       "html": [
        "<div style=\"max-height:1000px;max-width:1500px;overflow:auto;\">\n",
        "<table border=\"1\" class=\"dataframe\">\n",
        "  <thead>\n",
        "    <tr style=\"text-align: right;\">\n",
        "      <th></th>\n",
        "      <th>accident</th>\n",
        "    </tr>\n",
        "    <tr>\n",
        "      <th>ZIP CODE</th>\n",
        "      <th></th>\n",
        "    </tr>\n",
        "  </thead>\n",
        "  <tbody>\n",
        "    <tr>\n",
        "      <th>10000</th>\n",
        "      <td>   2</td>\n",
        "    </tr>\n",
        "    <tr>\n",
        "      <th>10001</th>\n",
        "      <td> 480</td>\n",
        "    </tr>\n",
        "    <tr>\n",
        "      <th>10002</th>\n",
        "      <td> 449</td>\n",
        "    </tr>\n",
        "    <tr>\n",
        "      <th>10003</th>\n",
        "      <td> 339</td>\n",
        "    </tr>\n",
        "    <tr>\n",
        "      <th>10004</th>\n",
        "      <td>  60</td>\n",
        "    </tr>\n",
        "  </tbody>\n",
        "</table>\n",
        "</div>"
       ],
       "metadata": {},
       "output_type": "pyout",
       "prompt_number": 73,
       "text": [
        "          accident\n",
        "ZIP CODE          \n",
        "10000            2\n",
        "10001          480\n",
        "10002          449\n",
        "10003          339\n",
        "10004           60"
       ]
      }
     ],
     "prompt_number": 73
    },
    {
     "cell_type": "code",
     "collapsed": false,
     "input": [
      "len(df_pop)"
     ],
     "language": "python",
     "metadata": {},
     "outputs": [
      {
       "metadata": {},
       "output_type": "pyout",
       "prompt_number": 63,
       "text": [
        "187"
       ]
      }
     ],
     "prompt_number": 63
    },
    {
     "cell_type": "code",
     "collapsed": false,
     "input": [
      "df = pd.merge(df_dpr, df_pop, left_index=True, right_index=True, how='inner')\n",
      "df = df.fillna(method='pad')\n",
      "df.head()\n",
      "#df.to_csv('2011-small.csv')\n"
     ],
     "language": "python",
     "metadata": {},
     "outputs": [
      {
       "html": [
        "<div style=\"max-height:1000px;max-width:1500px;overflow:auto;\">\n",
        "<table border=\"1\" class=\"dataframe\">\n",
        "  <thead>\n",
        "    <tr style=\"text-align: right;\">\n",
        "      <th></th>\n",
        "      <th>num</th>\n",
        "      <th>accident</th>\n",
        "    </tr>\n",
        "  </thead>\n",
        "  <tbody>\n",
        "    <tr>\n",
        "      <th>10000</th>\n",
        "      <td>  2</td>\n",
        "      <td>   2</td>\n",
        "    </tr>\n",
        "    <tr>\n",
        "      <th>10001</th>\n",
        "      <td>  7</td>\n",
        "      <td> 480</td>\n",
        "    </tr>\n",
        "    <tr>\n",
        "      <th>10002</th>\n",
        "      <td> 46</td>\n",
        "      <td> 449</td>\n",
        "    </tr>\n",
        "    <tr>\n",
        "      <th>10003</th>\n",
        "      <td> 15</td>\n",
        "      <td> 339</td>\n",
        "    </tr>\n",
        "    <tr>\n",
        "      <th>10004</th>\n",
        "      <td>  3</td>\n",
        "      <td>  60</td>\n",
        "    </tr>\n",
        "  </tbody>\n",
        "</table>\n",
        "</div>"
       ],
       "metadata": {},
       "output_type": "pyout",
       "prompt_number": 74,
       "text": [
        "       num  accident\n",
        "10000    2         2\n",
        "10001    7       480\n",
        "10002   46       449\n",
        "10003   15       339\n",
        "10004    3        60"
       ]
      }
     ],
     "prompt_number": 74
    },
    {
     "cell_type": "code",
     "collapsed": false,
     "input": [],
     "language": "python",
     "metadata": {},
     "outputs": [],
     "prompt_number": 57
    },
    {
     "cell_type": "code",
     "collapsed": false,
     "input": [],
     "language": "python",
     "metadata": {},
     "outputs": [],
     "prompt_number": 57
    },
    {
     "cell_type": "code",
     "collapsed": false,
     "input": [
      "df.to_csv('2013-ComplaintsVSaccidents.csv')"
     ],
     "language": "python",
     "metadata": {},
     "outputs": [],
     "prompt_number": 75
    },
    {
     "cell_type": "code",
     "collapsed": false,
     "input": [],
     "language": "python",
     "metadata": {},
     "outputs": [],
     "prompt_number": 9
    },
    {
     "cell_type": "code",
     "collapsed": false,
     "input": [
      "xname = 'accident'\n",
      "yname = 'num'\n",
      "x = df[xname]\n",
      "y = df[yname]\n",
      " \n",
      "fig, ax = plt.subplots(1, 1, figsize=(8,8))\n",
      "ax.set_title('Accident number VS DPR complaints')\n",
      "ax.scatter(x,y, color = 'grey', marker='o' ,alpha=0.5, s = 50)\n",
      "ax.set_xlabel('Number of accident per zipcode (in hundreds unit)')\n",
      "ax.set_ylabel('Number of complaints')\n",
      "ax.grid(True)\n",
      "\n",
      "X = sm.add_constant(x)\n",
      "model = sm.OLS(y, X)\n",
      "result = model.fit()\n",
      "print result.summary()\n",
      "ax.plot(x, result.fittedvalues, 'k-', alpha=1,\n",
      "        linewidth=3,label=('linear fitted\\n'+r'$\\beta:$'+'%.2f\\n'%(result.params[1])+r'$R^2:$'+'%.2f'%(result.rsquared)))\n",
      "\n",
      "model_cubic = smf.ols(formula='%s~ 1 + %s+ I(%s ** 2.0)'%(yname,xname,xname), data=df)\n",
      "result = model_cubic.fit()\n",
      "print result.summary()\n",
      "ax.plot(x, result.fittedvalues, 'g^', alpha=0.8,\n",
      "        markersize=8,label=('cubic fitted\\n'+r'$\\beta_1:$'+'%.2f\\n'%(result.params[1])+r'$\\beta_2:$'+'%.2f\\n'%(result.params[2])+r'$R^2:$'+'%.2f'%(result.rsquared)))\n",
      "ax.legend(loc='upper left', shadow=True)\n",
      "\n",
      "plt.xlim(0,700)\n",
      "plt.ylim(0,700)\n",
      "\n",
      "plt.savefig('output-accident-2013.png')\n",
      "plt.show()"
     ],
     "language": "python",
     "metadata": {},
     "outputs": [
      {
       "output_type": "stream",
       "stream": "stdout",
       "text": [
        "                            OLS Regression Results                            \n",
        "==============================================================================\n",
        "Dep. Variable:                    num   R-squared:                       0.036\n",
        "Model:                            OLS   Adj. R-squared:                  0.031\n",
        "Method:                 Least Squares   F-statistic:                     6.542\n",
        "Date:                Sat, 06 Dec 2014   Prob (F-statistic):             0.0114\n",
        "Time:                        13:51:35   Log-Likelihood:                -820.16\n",
        "No. Observations:                 176   AIC:                             1644.\n",
        "Df Residuals:                     174   BIC:                             1651.\n",
        "Df Model:                           1                                         \n",
        "Covariance Type:            nonrobust                                         \n",
        "==============================================================================\n",
        "                 coef    std err          t      P>|t|      [95.0% Conf. Int.]\n",
        "------------------------------------------------------------------------------\n",
        "const         21.8531      3.700      5.906      0.000        14.551    29.156\n",
        "accident       0.0360      0.014      2.558      0.011         0.008     0.064\n",
        "==============================================================================\n",
        "Omnibus:                       55.362   Durbin-Watson:                   1.234\n",
        "Prob(Omnibus):                  0.000   Jarque-Bera (JB):              111.060\n",
        "Skew:                           1.481   Prob(JB):                     7.65e-25\n",
        "Kurtosis:                       5.523   Cond. No.                         502.\n",
        "==============================================================================\n",
        "\n",
        "Warnings:\n",
        "[1] Standard Errors assume that the covariance matrix of the errors is correctly specified.\n",
        "                            OLS Regression Results                            \n",
        "==============================================================================\n",
        "Dep. Variable:                    num   R-squared:                       0.090\n",
        "Model:                            OLS   Adj. R-squared:                  0.079\n",
        "Method:                 Least Squares   F-statistic:                     8.504\n",
        "Date:                Sat, 06 Dec 2014   Prob (F-statistic):           0.000300\n",
        "Time:                        13:51:35   Log-Likelihood:                -815.16\n",
        "No. Observations:                 176   AIC:                             1636.\n",
        "Df Residuals:                     173   BIC:                             1646.\n",
        "Df Model:                           2                                         \n",
        "Covariance Type:            nonrobust                                         \n",
        "======================================================================================\n",
        "                         coef    std err          t      P>|t|      [95.0% Conf. Int.]\n",
        "--------------------------------------------------------------------------------------\n",
        "Intercept              9.5070      5.298      1.795      0.074        -0.949    19.963\n",
        "accident               0.1615      0.042      3.867      0.000         0.079     0.244\n",
        "I(accident ** 2.0)    -0.0002   7.16e-05     -3.182      0.002        -0.000 -8.65e-05\n",
        "==============================================================================\n",
        "Omnibus:                       63.736   Durbin-Watson:                   1.259\n",
        "Prob(Omnibus):                  0.000   Jarque-Bera (JB):              147.342\n",
        "Skew:                           1.625   Prob(JB):                     1.01e-32\n",
        "Kurtosis:                       6.087   Cond. No.                     2.97e+05\n",
        "==============================================================================\n",
        "\n",
        "Warnings:\n",
        "[1] Standard Errors assume that the covariance matrix of the errors is correctly specified.\n",
        "[2] The condition number is large, 2.97e+05. This might indicate that there are\n",
        "strong multicollinearity or other numerical problems.\n"
       ]
      }
     ],
     "prompt_number": 76
    }
   ],
   "metadata": {}
  }
 ]
}